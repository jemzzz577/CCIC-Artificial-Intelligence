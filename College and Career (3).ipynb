{
 "cells": [
  {
   "cell_type": "markdown",
   "id": "f03800d2-869d-4969-9443-4fa8b8cfb147",
   "metadata": {},
   "source": [
    "## College and Career"
   ]
  },
  {
   "cell_type": "markdown",
   "id": "b2acaafb-501c-4479-97fe-c18dd04b40bb",
   "metadata": {},
   "source": [
    ">## Question\n",
    "> Should I go to a trade school, or a college right after I graduate if I want to maximize my earnings in the first year of being a Robot Engineer?\n",
    ">## Study Description\n",
    "> The random variable I am measuring is the amount of money I will make in the first year of my career (Income - School Debt). A trial of this simulation will involve having a student either go to trade school, or college. The outcome I will be measuring is the amount of money the student will make depending on the pathway they completed."
   ]
  },
  {
   "cell_type": "markdown",
   "id": "b44901b4-127d-4069-959e-a5beb0a0dea5",
   "metadata": {},
   "source": [
    "## Code/Data\n",
    ">All code and data will show up here."
   ]
  },
  {
   "cell_type": "code",
   "execution_count": 288,
   "id": "7e8c4928-158a-4c55-a53e-3068e428864b",
   "metadata": {},
   "outputs": [],
   "source": [
    "import seaborn as sns\n",
    "import random"
   ]
  },
  {
   "cell_type": "code",
   "execution_count": 289,
   "id": "fc7ee725-ed3d-4d84-ba43-b395df3decaa",
   "metadata": {},
   "outputs": [],
   "source": [
    "choice = random.choice([\"College\", \"Trade\"])"
   ]
  },
  {
   "cell_type": "code",
   "execution_count": 290,
   "id": "0a3b7140-790f-45f5-81d9-4973bcc854d4",
   "metadata": {},
   "outputs": [
    {
     "name": "stdout",
     "output_type": "stream",
     "text": [
      "Chosen: Trade\n"
     ]
    }
   ],
   "source": [
    "choice = random.choice([\"College\", \"Trade\"])\n",
    "print(\"Chosen:\", choice)"
   ]
  },
  {
   "cell_type": "code",
   "execution_count": 291,
   "id": "9f1fb3b2-6218-4849-a94e-bc8e45302c3a",
   "metadata": {},
   "outputs": [
    {
     "name": "stdout",
     "output_type": "stream",
     "text": [
      "After 5 years, you have maximized your total earnings to about $1.2 Million\n"
     ]
    }
   ],
   "source": [
    "if choice == \"College\":\n",
    "    print(\"After 5 years, you have maximized your total earnings to only $700,000\")\n",
    "else:\n",
    "    print(\"After 5 years, you have maximized your total earnings to about $1.2 Million\")"
   ]
  },
  {
   "cell_type": "code",
   "execution_count": 292,
   "id": "eb27c228-3fe9-4c9f-80fd-7489bc4ff50f",
   "metadata": {},
   "outputs": [],
   "source": [
    "for _ in range(100):\n",
    "    choice = random.choice([\"College\", \"Trade\"])\n",
    "    choices.append(choice)"
   ]
  },
  {
   "cell_type": "code",
   "execution_count": 293,
   "id": "d4487b52-fc79-4f3c-ba6c-3cc871ad2464",
   "metadata": {},
   "outputs": [
    {
     "name": "stdout",
     "output_type": "stream",
     "text": [
      "After 5 years, you have maximized your total earnings to only $700,000\n"
     ]
    },
    {
     "name": "stderr",
     "output_type": "stream",
     "text": [
      "/opt/conda/envs/anaconda-2024.02-py310/lib/python3.10/site-packages/seaborn/_oldcore.py:1765: FutureWarning: unique with argument that is not not a Series, Index, ExtensionArray, or np.ndarray is deprecated and will raise in a future version.\n",
      "  order = pd.unique(vector)\n"
     ]
    },
    {
     "data": {
      "image/png": "[encoded data removed]",
      "text/plain": [
       "<Figure size 640x480 with 1 Axes>"
      ]
     },
     "metadata": {},
     "output_type": "display_data"
    }
   ],
   "source": [
    "if choice == \"College\":\n",
    "    print(\"After 5 years, you have maximized your total earnings to only $700,000\")\n",
    "    sns.barplot(x=[\"College\", \"Trade\"], y=[700000, 0])\n",
    "else:\n",
    "    print(\"After 5 years, you have maximized your total earnings to about $1.2 Million\")\n",
    "    sns.barplot(x=[\"College\", \"Trade\"], y=[0, 1200000])\n",
    "\n",
    "    #Here, it only runs ONE trial!!!"
   ]
  },
  {
   "cell_type": "code",
   "execution_count": 294,
   "id": "d62246b6-c9dd-433d-bfa0-605985cd3fa0",
   "metadata": {},
   "outputs": [],
   "source": [
    "college_earnings = 0\n",
    "trade_earnings = 0\n",
    "college_count = 0\n",
    "trade_count = 0"
   ]
  },
  {
   "cell_type": "code",
   "execution_count": 295,
   "id": "3956b86d-cb2e-4b2e-9cbd-b334fb05d3af",
   "metadata": {},
   "outputs": [
    {
     "name": "stdout",
     "output_type": "stream",
     "text": [
      "Summary after 100 trials:\n",
      "College chosen: 58 times, total earnings: $40,600,000\n",
      "Trade chosen: 42 times, total earnings: $50,400,000\n"
     ]
    },
    {
     "name": "stderr",
     "output_type": "stream",
     "text": [
      "/opt/conda/envs/anaconda-2024.02-py310/lib/python3.10/site-packages/seaborn/_oldcore.py:1765: FutureWarning: unique with argument that is not not a Series, Index, ExtensionArray, or np.ndarray is deprecated and will raise in a future version.\n",
      "  order = pd.unique(vector)\n"
     ]
    },
    {
     "data": {
      "text/plain": [
       "<Axes: >"
      ]
     },
     "execution_count": 295,
     "metadata": {},
     "output_type": "execute_result"
    },
    {
     "data": {
      "image/png": "[encoded data removed]",
      "text/plain": [
       "<Figure size 640x480 with 1 Axes>"
      ]
     },
     "metadata": {},
     "output_type": "display_data"
    }
   ],
   "source": [
    "for _ in range(100):\n",
    "    choice = random.choice([\"College\", \"No College\"])\n",
    "    \n",
    "    if choice == \"College\":\n",
    "        college_earnings += 700000\n",
    "        college_count += 1\n",
    "    else:\n",
    "        trade_earnings += 1200000\n",
    "        trade_count += 1\n",
    "\n",
    "print(\"Summary after 100 trials:\")\n",
    "print(f\"College chosen: {college_count} times, total earnings: ${college_earnings:,}\")\n",
    "print(f\"Trade chosen: {trade_count} times, total earnings: ${trade_earnings:,}\")\n",
    "\n",
    "sns.barplot(\n",
    "    x=[\"College\", \"Trade\"],\n",
    "    y=[college_earnings, trade_earnings]\n",
    ")\n",
    "#Trial runs 100 times here. (Imagine working at a robotic company for 100 years bro, you're making BANK\")"
   ]
  },
  {
   "cell_type": "code",
   "execution_count": 296,
   "id": "08efb864-1982-4032-9ed4-967dd82ce143",
   "metadata": {},
   "outputs": [
    {
     "name": "stdout",
     "output_type": "stream",
     "text": [
      "\n",
      "Summary after 100 trials:\n",
      "College chosen: 58 times, total earnings: 40600000\n",
      "Trade chosen: 42 times, total earnings: 50400000\n"
     ]
    }
   ],
   "source": [
    "print(\"\\nSummary after 100 trials:\")\n",
    "print(\"College chosen:\", college_count, \"times, total earnings:\", college_earnings)\n",
    "print(\"Trade chosen:\", trade_count, \"times, total earnings:\", trade_earnings)"
   ]
  },
  {
   "cell_type": "code",
   "execution_count": 297,
   "id": "b55c4078-25c7-4382-98b1-6ea59d341ba7",
   "metadata": {},
   "outputs": [
    {
     "name": "stderr",
     "output_type": "stream",
     "text": [
      "/opt/conda/envs/anaconda-2024.02-py310/lib/python3.10/site-packages/seaborn/_oldcore.py:1765: FutureWarning: unique with argument that is not not a Series, Index, ExtensionArray, or np.ndarray is deprecated and will raise in a future version.\n",
      "  order = pd.unique(vector)\n"
     ]
    },
    {
     "data": {
      "text/plain": [
       "<Axes: >"
      ]
     },
     "execution_count": 297,
     "metadata": {},
     "output_type": "execute_result"
    },
    {
     "data": {
      "image/png": "[encoded data removed]",
      "text/plain": [
       "<Figure size 640x480 with 1 Axes>"
      ]
     },
     "metadata": {},
     "output_type": "display_data"
    }
   ],
   "source": [
    "sns.barplot(\n",
    "    x=[\"College\", \"Trade\"],\n",
    "    y=[college_earnings, trade_earnings]\n",
    ")"
   ]
  },
  {
   "cell_type": "markdown",
   "id": "8c00032a-968f-4503-8c73-1255ae64740e",
   "metadata": {},
   "source": [
    "## Conclusion\n",
    "\n",
    "> Summary:\n",
    "    Trade School: 56x - Total Earnings: 67,200,000 Dollars\n",
    "\n",
    ">  College: 44x - Total Earnings: 30,800,000 Dollars\n",
    "\n",
    "\n",
    "Description\n",
    "> Given the results, Trade School would better maximize your earnings. For each time Trade School was chosen, you would earn 1.2 Million Dollars. For each time College was chosen, you would earn 700,000 Dollars. As shown in the code above and in the summary, Trade School was chosen 56 times and the total amount of money earned was 67,200,000 Million dollars, while College was chosen 44 times with the total earnings being 30,800,000 Million dollars. In one year, you would earn 1.2 million dollars for the first year after going to Trade School, and 700,000 after going to College.\n",
    "\n",
    "DISCLAIMER: THIS CODE WAS ACCIDENTALLY RAN AGAIN SO DO NOT EXPECT THE CONCLUSION TO MATCH UP WITH THE NEW RESULTS THAT APPEAR. THE CONCLUS"
   ]
  }
 ],
 "metadata": {
  "kernelspec": {
   "display_name": "anaconda-2024.02-py310",
   "language": "python",
   "name": "conda-env-anaconda-2024.02-py310-py"
  },
  "language_info": {
   "codemirror_mode": {
    "name": "ipython",
    "version": 3
   },
   "file_extension": ".py",
   "mimetype": "text/x-python",
   "name": "python",
   "nbconvert_exporter": "python",
   "pygments_lexer": "ipython3",
   "version": "3.10.14"
  }
 },
 "nbformat": 4,
 "nbformat_minor": 5
}
