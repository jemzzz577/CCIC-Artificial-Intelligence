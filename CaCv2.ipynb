{
 "cells": [
  {
   "cell_type": "markdown",
   "id": "ff4d402f-2655-4f81-8956-85d919f6c76a",
   "metadata": {},
   "source": [
    "## College and Career V2"
   ]
  },
  {
   "cell_type": "markdown",
   "id": "3df63fcf-3883-455d-8edc-acaee85eb9fd",
   "metadata": {},
   "source": [
    "> Which education pathway leaves you in a better financial position at retirement at age 45? Going to University or going to Trade School?\n",
    ">## Study Description\n",
    "> The variables I am combining are Acceptance rate, Taxes, and Completion rate. A trial of this simulation will involve having a student either go to trade school or university. The outcome I will be measuring is the amount of money the student will make depending on the pathway they completed."
   ]
  },
  {
   "cell_type": "markdown",
   "id": "9de3c8ec-0eba-46d9-a285-59ed7cc3d49b",
   "metadata": {},
   "source": [
    "## Code/Data\n",
    ">Everything else will appear here."
   ]
  },
  {
   "cell_type": "code",
   "execution_count": 185,
   "id": "a372e1cf-3253-46ca-8f14-764a7e3a2bf1",
   "metadata": {},
   "outputs": [],
   "source": [
    "import seaborn as sns\n",
    "import random"
   ]
  },
  {
   "cell_type": "code",
   "execution_count": 186,
   "id": "51e4aa16-732f-4be5-8abe-45fb9404cb45",
   "metadata": {},
   "outputs": [
    {
     "name": "stdout",
     "output_type": "stream",
     "text": [
      "Chosen: University\n"
     ]
    }
   ],
   "source": [
    "choice = random.choice([\"University\", \"Trade\"])\n",
    "\n",
    "choice = random.choice([\"University\", \"Trade\"])\n",
    "print(\"Chosen:\", choice)"
   ]
  },
  {
   "cell_type": "markdown",
   "id": "96ed97bb-0f23-4f46-8be6-e4c3888c8161",
   "metadata": {},
   "source": [
    "The one trial of this simulation is not linked to the other 99. (100 Trials)\n",
    "\n",
    "This means if the one trial chooses university, chances are the other 99 trials ran differently. It still can choose the same thing, but it's not guaranteed."
   ]
  },
  {
   "cell_type": "code",
   "execution_count": 187,
   "id": "b142b84a-0999-4ff2-8a0a-b7111a84f4a7",
   "metadata": {},
   "outputs": [
    {
     "name": "stdout",
     "output_type": "stream",
     "text": [
      "After retirement, you have maximized your total earnings to only $1.1 Milion\n"
     ]
    }
   ],
   "source": [
    "if choice == \"University\":\n",
    "    print(\"After retirement, you have maximized your total earnings to only $1.1 Milion\")\n",
    "else:\n",
    "    print(\"After retirement, you have maximized your total earnings to about $1.7 Million\")\n",
    "\n",
    "# This is one trial."
   ]
  },
  {
   "cell_type": "code",
   "execution_count": 188,
   "id": "46c44999-ceaf-4a9b-9ce4-c455dead96a2",
   "metadata": {},
   "outputs": [],
   "source": [
    "university_earnings = 0\n",
    "trade_earnings = 0\n",
    "university_count = 0\n",
    "trade_count = 0"
   ]
  },
  {
   "cell_type": "code",
   "execution_count": 189,
   "id": "0042aad4-1a3f-44cc-a6fb-7144841b3982",
   "metadata": {},
   "outputs": [
    {
     "name": "stdout",
     "output_type": "stream",
     "text": [
      "Summary after 100 trials:\n",
      "University chosen: 55 times, total earnings: $60,500,000\n",
      "Trade chosen: 45 times, total earnings: $76,500,000\n"
     ]
    },
    {
     "data": {
      "text/plain": [
       "<Axes: >"
      ]
     },
     "execution_count": 189,
     "metadata": {},
     "output_type": "execute_result"
    },
    {
     "data": {
      "image/png": "[encoded data removed]",
      "text/plain": [
       "<Figure size 640x480 with 1 Axes>"
      ]
     },
     "metadata": {},
     "output_type": "display_data"
    }
   ],
   "source": [
    "for _ in range(100):\n",
    "    choice = random.choice([\"University\", \"Trade\"])\n",
    "    \n",
    "    if choice == \"University\":\n",
    "        university_earnings += 1100000\n",
    "        university_count += 1\n",
    "    else:\n",
    "        trade_earnings += 1700000\n",
    "        trade_count += 1\n",
    "\n",
    "print(\"Summary after 100 trials:\")\n",
    "print(f\"University chosen: {university_count} times, total earnings: ${university_earnings:,}\")\n",
    "print(f\"Trade chosen: {trade_count} times, total earnings: ${trade_earnings:,}\")\n",
    "\n",
    "sns.barplot(\n",
    "    x=[\"University\", \"Trade\"],\n",
    "    y=[university_earnings, trade_earnings]\n",
    ")\n",
    "#Trial runs 100 times here. (Imagine working at a robotic company for 100 years bro, you're making BANK\")"
   ]
  },
  {
   "cell_type": "markdown",
   "id": "a0b9778d-d0c5-4aaf-90b0-88f92f9ccc2a",
   "metadata": {},
   "source": [
    "## Conclusion\n",
    "\n",
    "> Summary:\n",
    "    Trade School: 55x - Total Earnings: 605200,000 Dollars\n",
    "\n",
    ">  University: 45x - Total Earnings: 76,500,000 Dollars\n",
    "\n",
    "Description\n"
   ]
  },
  {
   "cell_type": "code",
   "execution_count": null,
   "id": "c0b9d5fe-489b-412c-ac21-69cd1a181033",
   "metadata": {},
   "outputs": [],
   "source": []
  }
 ],
 "metadata": {
  "kernelspec": {
   "display_name": "anaconda-panel-2023.05-py310",
   "language": "python",
   "name": "conda-env-anaconda-panel-2023.05-py310-py"
  },
  "language_info": {
   "codemirror_mode": {
    "name": "ipython",
    "version": 3
   },
   "file_extension": ".py",
   "mimetype": "text/x-python",
   "name": "python",
   "nbconvert_exporter": "python",
   "pygments_lexer": "ipython3",
   "version": "3.11.5"
  }
 },
 "nbformat": 4,
 "nbformat_minor": 5
}
