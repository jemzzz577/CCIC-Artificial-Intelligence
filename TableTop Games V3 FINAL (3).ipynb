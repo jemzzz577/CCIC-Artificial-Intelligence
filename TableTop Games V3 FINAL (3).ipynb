{
 "cells": [
  {
   "cell_type": "markdown",
   "id": "a971fdd1-1f29-49c0-ab3f-b9344e0cfaa4",
   "metadata": {},
   "source": [
    "## What is the probability that a player lands on a Chance space on their first roll and a blue property on their second roll (assuming each roll is equally likely to land on any space)?"
   ]
  },
  {
   "cell_type": "markdown",
   "id": "2cef2985-f07a-4326-ac78-fb4059be26aa",
   "metadata": {},
   "source": [
    "> The sample space of my question is all possible board spaces the player can land on. A trial of this simulation will be rolling the dice and seeing whether or not the player will land on the following spaces. I will be measuring the probability."
   ]
  },
  {
   "cell_type": "markdown",
   "id": "d4e12169-0fbd-41eb-8159-0fd196f57f06",
   "metadata": {},
   "source": [
    "Imports ↓"
   ]
  },
  {
   "cell_type": "code",
   "execution_count": 55,
   "id": "626aad9c-01de-41cf-8133-ec69a8709ba5",
   "metadata": {},
   "outputs": [],
   "source": [
    "import seaborn as sns\n",
    "import random"
   ]
  },
  {
   "cell_type": "markdown",
   "id": "a14dd571-f71b-4512-8c48-bd5bc4fb3509",
   "metadata": {},
   "source": [
    "> Total # of Board Spaces: 40 |\n",
    "> Blue Spaces: 5 |\n",
    "> Chance Spaces: 3"
   ]
  },
  {
   "cell_type": "code",
   "execution_count": 56,
   "id": "84963d2d-9882-4ab9-abff-64d1602b2330",
   "metadata": {},
   "outputs": [],
   "source": [
    "total_spaces = 40\n",
    "blue_spaces = 5\n",
    "chance_spaces = 3"
   ]
  },
  {
   "cell_type": "markdown",
   "id": "6f3cb473-8a52-4995-a294-393b0d9bd807",
   "metadata": {},
   "source": [
    "Main Code ↓"
   ]
  },
  {
   "cell_type": "code",
   "execution_count": 57,
   "id": "5cae4e03-0a2f-48ab-b5bd-f54759971122",
   "metadata": {},
   "outputs": [
    {
     "name": "stdout",
     "output_type": "stream",
     "text": [
      "Probability of Chance AND Blue: 0.009375\n"
     ]
    }
   ],
   "source": [
    "probability = (chance_spaces / total_spaces) * (blue_spaces) / total_spaces\n",
    "print(\"Probability of Chance AND Blue:\", probability)"
   ]
  },
  {
   "cell_type": "markdown",
   "id": "18a9b4c5-01fa-465b-931b-854c0e4d9070",
   "metadata": {},
   "source": [
    ">(3 ÷ 40 ⋅ 5 ÷ 40) ChanceSpaces/TotalSpaces(BlueSpaces)/TotalSpaces"
   ]
  },
  {
   "cell_type": "code",
   "execution_count": 58,
   "id": "3594539a-222f-4b48-8e2d-4881628dd2b4",
   "metadata": {},
   "outputs": [
    {
     "name": "stderr",
     "output_type": "stream",
     "text": [
      "/opt/conda/envs/anaconda-2024.02-py310/lib/python3.10/site-packages/seaborn/_oldcore.py:1765: FutureWarning: unique with argument that is not not a Series, Index, ExtensionArray, or np.ndarray is deprecated and will raise in a future version.\n",
      "  order = pd.unique(vector)\n"
     ]
    },
    {
     "data": {
      "text/plain": [
       "<Axes: >"
      ]
     },
     "execution_count": 58,
     "metadata": {},
     "output_type": "execute_result"
    },
    {
     "data": {
      "image/png": "[encoded data removed]",
      "text/plain": [
       "<Figure size 640x480 with 1 Axes>"
      ]
     },
     "metadata": {},
     "output_type": "display_data"
    }
   ],
   "source": [
    "sns.barplot(x=[\"Chance AND Blue\"], y=[probability], palette=\"Blues\")"
   ]
  },
  {
   "cell_type": "markdown",
   "id": "a545ac53-1143-433d-8a1e-2235ff2f4e98",
   "metadata": {},
   "source": [
    "↑ This one bar shows the percentage: 0.009375"
   ]
  },
  {
   "cell_type": "markdown",
   "id": "6d56f79a-3b57-472b-86a1-827667dbb97a",
   "metadata": {},
   "source": [
    "## Conclusion"
   ]
  },
  {
   "cell_type": "markdown",
   "id": "3bdc50f0-1f84-4e4e-8faf-61036da2ef88",
   "metadata": {},
   "source": [
    "> The probability that a player lands on a Chance space on their first roll and a blue property on their second roll is about 0.009375 (0.94%). - 0.94 is rounded!!\n",
    ">\n",
    "> Theortical - Using Multiplication rule |\n",
    "> P(Chance and Blue) = 3/40 ⋅ 5/40 = 3/320  = 0.009375"
   ]
  },
  {
   "cell_type": "code",
   "execution_count": null,
   "id": "cd56b9f6-232c-4a23-8b65-394ba0fc5409",
   "metadata": {},
   "outputs": [],
   "source": []
  }
 ],
 "metadata": {
  "kernelspec": {
   "display_name": "anaconda-2024.02-py310",
   "language": "python",
   "name": "conda-env-anaconda-2024.02-py310-py"
  },
  "language_info": {
   "codemirror_mode": {
    "name": "ipython",
    "version": 3
   },
   "file_extension": ".py",
   "mimetype": "text/x-python",
   "name": "python",
   "nbconvert_exporter": "python",
   "pygments_lexer": "ipython3",
   "version": "3.10.14"
  }
 },
 "nbformat": 4,
 "nbformat_minor": 5
}
