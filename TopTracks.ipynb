{
 "cells": [
  {
   "cell_type": "markdown",
   "id": "8766b779-fd8a-4c58-86a8-dcf397cb80f7",
   "metadata": {},
   "source": [
    "What kind of music was more listened to in 2024? How does this compare with global in 2024?"
   ]
  },
  {
   "cell_type": "markdown",
   "id": "0b139ef7-bfc2-45e7-9b4c-7fbb2003ea4e",
   "metadata": {},
   "source": [
    "Here is how I want to answer this question: I want to find useful sources and hopefully they will help me answer my question. Mostly, I am looking for bar charts or percents. I want to examine the population. I think this is going to be an observational study."
   ]
  },
  {
   "cell_type": "markdown",
   "id": "dd9ef10a-da9b-4b86-a090-d289963b295b",
   "metadata": {},
   "source": [
    "So I mostly just used ChatGPT to help collect my data. The AI took the data from the an official source: https://newsroom.spotify.com/2024-12-04/from-breakout-pop-stars-to-country-crossovers-heres-the-scoop-on-2024s-biggest-music-trends-on-spotify/"
   ]
  },
  {
   "cell_type": "markdown",
   "id": "7f952a4a-a609-47fe-b833-3c1167dd159c",
   "metadata": {},
   "source": [
    "This source states the songs, the artists, and talks about the trends in 2024 on Spotify."
   ]
  },
  {
   "cell_type": "markdown",
   "id": "ca17ddfb-804d-4a93-a84b-2e6be9032aa3",
   "metadata": {},
   "source": [
    "I also used my teacher's dataset. It includes the genre, AI genre, and track. Thw first bias I saw was at the very bottom of USA. The Genre compared to the AI Genre. It was indie "
   ]
  },
  {
   "cell_type": "code",
   "execution_count": 20,
   "id": "a877a55c-9e14-4569-92ae-a7bfb07299d6",
   "metadata": {},
   "outputs": [],
   "source": [
    "import pandas as pd\n",
    "import seaborn as sns"
   ]
  },
  {
   "cell_type": "code",
   "execution_count": 25,
   "id": "8ff8a886-1889-443c-b5e6-b74348e0dbcf",
   "metadata": {
    "scrolled": true
   },
   "outputs": [],
   "source": [
    "df = pd.read_excel('Top Tracks Playlists.xlsx', index_col=0)"
   ]
  },
  {
   "cell_type": "code",
   "execution_count": 23,
   "id": "910c4d0e-b841-4a77-b6ff-fde664d359ec",
   "metadata": {},
   "outputs": [
    {
     "data": {
      "text/html": [
       "<div>\n",
       "<style scoped>\n",
       "    .dataframe tbody tr th:only-of-type {\n",
       "        vertical-align: middle;\n",
       "    }\n",
       "\n",
       "    .dataframe tbody tr th {\n",
       "        vertical-align: top;\n",
       "    }\n",
       "\n",
       "    .dataframe thead th {\n",
       "        text-align: right;\n",
       "    }\n",
       "</style>\n",
       "<table border=\"1\" class=\"dataframe\">\n",
       "  <thead>\n",
       "    <tr style=\"text-align: right;\">\n",
       "      <th></th>\n",
       "      <th>Track</th>\n",
       "      <th>Artist</th>\n",
       "      <th>Wiki Genre</th>\n",
       "      <th>AI Genre</th>\n",
       "    </tr>\n",
       "    <tr>\n",
       "      <th>Playlist</th>\n",
       "      <th></th>\n",
       "      <th></th>\n",
       "      <th></th>\n",
       "      <th></th>\n",
       "    </tr>\n",
       "  </thead>\n",
       "  <tbody>\n",
       "    <tr>\n",
       "      <th>USA</th>\n",
       "      <td>Espresso</td>\n",
       "      <td>Sabrina Carpenter</td>\n",
       "      <td>Pop, funk, dance, nu-disco</td>\n",
       "      <td>Pop</td>\n",
       "    </tr>\n",
       "    <tr>\n",
       "      <th>USA</th>\n",
       "      <td>Not Like Us</td>\n",
       "      <td>Kendrick Lamar</td>\n",
       "      <td>West Coast hip-hop, hyphy</td>\n",
       "      <td>Hip-Hop</td>\n",
       "    </tr>\n",
       "    <tr>\n",
       "      <th>USA</th>\n",
       "      <td>A Bar Song (Tipsy)</td>\n",
       "      <td>Shaboozey</td>\n",
       "      <td>Country rap</td>\n",
       "      <td>Country</td>\n",
       "    </tr>\n",
       "    <tr>\n",
       "      <th>USA</th>\n",
       "      <td>I Had Some Help (Feat. Morgan Wallen)</td>\n",
       "      <td>Post Malone, Morgan Wallen</td>\n",
       "      <td>Country pop</td>\n",
       "      <td>Country</td>\n",
       "    </tr>\n",
       "    <tr>\n",
       "      <th>USA</th>\n",
       "      <td>MILLION DOLLAR BABY</td>\n",
       "      <td>Tommy Richman</td>\n",
       "      <td>R&amp;B, electro-funk, hip hop</td>\n",
       "      <td>R&amp;B</td>\n",
       "    </tr>\n",
       "  </tbody>\n",
       "</table>\n",
       "</div>"
      ],
      "text/plain": [
       "                                          Track                      Artist  \\\n",
       "Playlist                                                                      \n",
       "USA                                    Espresso           Sabrina Carpenter   \n",
       "USA                                 Not Like Us              Kendrick Lamar   \n",
       "USA                          A Bar Song (Tipsy)                   Shaboozey   \n",
       "USA       I Had Some Help (Feat. Morgan Wallen)  Post Malone, Morgan Wallen   \n",
       "USA                         MILLION DOLLAR BABY               Tommy Richman   \n",
       "\n",
       "                          Wiki Genre AI Genre  \n",
       "Playlist                                       \n",
       "USA       Pop, funk, dance, nu-disco      Pop  \n",
       "USA        West Coast hip-hop, hyphy  Hip-Hop  \n",
       "USA                      Country rap  Country  \n",
       "USA                      Country pop  Country  \n",
       "USA       R&B, electro-funk, hip hop      R&B  "
      ]
     },
     "execution_count": 23,
     "metadata": {},
     "output_type": "execute_result"
    }
   ],
   "source": [
    "df.head()"
   ]
  },
  {
   "cell_type": "code",
   "execution_count": null,
   "id": "71086103-b61f-4571-9618-f6674c40174c",
   "metadata": {},
   "outputs": [],
   "source": [
    "freq = df['AI Genre'].value_counts()"
   ]
  },
  {
   "cell_type": "markdown",
   "id": "ba3b745c-ddb1-4cdc-94a9-6e430570cef6",
   "metadata": {},
   "source": [
    "Pop was the most popular genre of music in 2024. For USA, Espresso is the most popular song, I think it is also the most popular song in Global as well. Evidence is above."
   ]
  },
  {
   "cell_type": "code",
   "execution_count": null,
   "id": "66c50aa6-4f67-445e-a38e-da7bf5ca47f0",
   "metadata": {},
   "outputs": [],
   "source": []
  }
 ],
 "metadata": {
  "kernelspec": {
   "display_name": "anaconda-2024.02-py310",
   "language": "python",
   "name": "conda-env-anaconda-2024.02-py310-py"
  },
  "language_info": {
   "codemirror_mode": {
    "name": "ipython",
    "version": 3
   },
   "file_extension": ".py",
   "mimetype": "text/x-python",
   "name": "python",
   "nbconvert_exporter": "python",
   "pygments_lexer": "ipython3",
   "version": "3.10.14"
  }
 },
 "nbformat": 4,
 "nbformat_minor": 5
}
