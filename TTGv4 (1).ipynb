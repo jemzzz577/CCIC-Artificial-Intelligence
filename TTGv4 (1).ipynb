{
 "cells": [
  {
   "cell_type": "markdown",
   "id": "18453a3e-abe5-4312-aa6e-d6eb63f20236",
   "metadata": {},
   "source": [
    "## In Monopoly, what's the probability that the first roll of the dice is snake eyes or a 12 (Highest number)? The game just started and nobody has rolled yet."
   ]
  },
  {
   "cell_type": "markdown",
   "id": "5781908a-b627-44fa-898f-31e91013923b",
   "metadata": {},
   "source": [
    "> The sample space of my question would be all the possible numbers the player can roll. A trial of this simulation would be the player rolling the dice and seeing whether or not they will land on snake eyes or 12. I will be measuring the probability/"
   ]
  },
  {
   "cell_type": "markdown",
   "id": "e9a3d0d4-829b-4ba7-921f-982c7184005f",
   "metadata": {},
   "source": [
    "Imports"
   ]
  },
  {
   "cell_type": "code",
   "execution_count": 13,
   "id": "a3981edc-c6a2-4e09-b731-0c3f3231f6e1",
   "metadata": {},
   "outputs": [],
   "source": [
    "import seaborn as sns\n",
    "import random"
   ]
  },
  {
   "cell_type": "code",
   "execution_count": 14,
   "id": "a015bd78-af8f-4300-87d9-64dd9c8d6964",
   "metadata": {},
   "outputs": [
    {
     "name": "stdout",
     "output_type": "stream",
     "text": [
      "Probability using Addition Rule: 0.05555555555555555\n"
     ]
    }
   ],
   "source": [
    "total_outcomes = 36  \n",
    "\n",
    "p_snake_eyes = 1 / total_outcomes\n",
    "p_double_six = 1 / total_outcomes\n",
    "\n",
    "probability = p_snake_eyes + p_double_six\n",
    "\n",
    "print(\"Probability using Addition Rule:\", probability)"
   ]
  },
  {
   "cell_type": "code",
   "execution_count": 15,
   "id": "9c539ee0-7da2-4e1c-9cf2-0572c338db39",
   "metadata": {},
   "outputs": [
    {
     "name": "stderr",
     "output_type": "stream",
     "text": [
      "/opt/conda/envs/anaconda-2024.02-py310/lib/python3.10/site-packages/seaborn/_oldcore.py:1765: FutureWarning: unique with argument that is not not a Series, Index, ExtensionArray, or np.ndarray is deprecated and will raise in a future version.\n",
      "  order = pd.unique(vector)\n"
     ]
    },
    {
     "data": {
      "text/plain": [
       "<Axes: >"
      ]
     },
     "execution_count": 15,
     "metadata": {},
     "output_type": "execute_result"
    },
    {
     "data": {
      "image/png": "[encoded data removed]",
      "text/plain": [
       "<Figure size 640x480 with 1 Axes>"
      ]
     },
     "metadata": {},
     "output_type": "display_data"
    }
   ],
   "source": [
    "import seaborn as sns\n",
    "\n",
    "events = [\"Roll a 2 or 12\"]\n",
    "probabilities = [0.05555555555555555]\n",
    "\n",
    "sns.barplot(x=events, y=probabilities)"
   ]
  },
  {
   "cell_type": "markdown",
   "id": "a1db7fe3-8b3d-45f7-a79a-ac623ea5df97",
   "metadata": {},
   "source": [
    "## Conclusion"
   ]
  }
 ],
 "metadata": {
  "kernelspec": {
   "display_name": "anaconda-2024.02-py310",
   "language": "python",
   "name": "conda-env-anaconda-2024.02-py310-py"
  },
  "language_info": {
   "codemirror_mode": {
    "name": "ipython",
    "version": 3
   },
   "file_extension": ".py",
   "mimetype": "text/x-python",
   "name": "python",
   "nbconvert_exporter": "python",
   "pygments_lexer": "ipython3",
   "version": "3.10.14"
  }
 },
 "nbformat": 4,
 "nbformat_minor": 5
}
